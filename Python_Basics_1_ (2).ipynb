{
  "nbformat": 4,
  "nbformat_minor": 0,
  "metadata": {
    "colab": {
      "provenance": []
    },
    "kernelspec": {
      "name": "python3",
      "display_name": "Python 3"
    },
    "language_info": {
      "name": "python"
    }
  },
  "cells": [
    {
      "cell_type": "markdown",
      "source": [],
      "metadata": {
        "id": "NuwWeMEeJrTy"
      }
    },
    {
      "cell_type": "code",
      "source": [
        "#Python Basic Assignment-1"
      ],
      "metadata": {
        "id": "mRctCKqJHMMJ"
      },
      "execution_count": null,
      "outputs": []
    },
    {
      "cell_type": "markdown",
      "source": [],
      "metadata": {
        "id": "rZQvhtfkJpm7"
      }
    },
    {
      "cell_type": "markdown",
      "source": [
        "1. What is Python, and why is it popular ?\n",
        "    - Python is a high-level, interpreted programming language known for its simple and readable. It was created by Guido van          Rossum and first released in 1991. Python supports multiple programming paradigms, including procedural, object-oriented,and functional programming.\n",
        "\n",
        "    Reasons why Python is popular:\n",
        "\n",
        "    i  Easy to Learn and Use: Python has a clean and simple syntax, making it beginner-friendly.\n",
        "\n",
        "    ii Versatile: It can be used for web development, data science, machine learning, automation, game development, and more.\n",
        "\n",
        "    iii Large Community Support: Python has a vast community that contributes to a wide range of open-source libraries and               frameworks.\n",
        "\n",
        "    iv Cross-Platform: Python runs on various platforms like Windows, macOS, and Linux.\n",
        "\n",
        "    v Extensive Libraries: Python has powerful libraries such as NumPy, Pandas, Django, Flask, TensorFlow, and more.\n",
        "\n",
        "2. What is an interpreter in Python ?\n",
        "   - An interpreter in Python is a program that reads and executes Python code line by line. Instead of converting the entire         program into machine code at once (like a compiler), the interpreter translates each line of code and runs it immediately.\n",
        "\n",
        "3. What are pre-defined keywords in Python?\n",
        "  - Pre-defined keywords in Python are special reserved words that have a specific meaning and purpose in the language’s syntax.     These keywords cannot be used as variable names, function names, or any other identifiers because they are part of Python’s      core language structure.\n",
        "   Examples :\n",
        "   if, else, while, for, def, return, class, import, try, except, True, False, None\n",
        "4. Can keywords be used as variable names?\n",
        "  - No, Keywords cn not be used as variable names.\n",
        "\n",
        "5. What is mutability in Python?\n",
        "  - Objects/Conatiner whose state or value can be changed after thery are created are called a mutable objects or container also     called as item assignment.\n",
        "   For example: List is a type of mutable objectsupports item assignment\n",
        "\n",
        "6. Why are lists mutable, but tuples are immutable?\n",
        "  - Lists are mutable because whose value can be changed after they are created but in tuples state or value can not be changes       after they created , therefore lists are mutable and tuples are immutable.\n",
        "\n",
        "7. What is the difference between “==” and “is” operators in Python ?\n",
        "  - == (Equality operator)\n",
        "   It checks whether the values of two objects are equal. If the contents or data of the objects are the same, == returns True.\n",
        "\n",
        "    is (Identity operator)\n",
        "    It checks whether two variables refer to the exact same object in memory (i.e., they have the same identity). If both            variables point to the same object, is returns True.\n",
        "\n",
        "    For example:\n",
        "    \n",
        "    a = [1, 2, 3]\n",
        "    \n",
        "    b = [1, 2, 3]\n",
        "    \n",
        "    c = a\n",
        "\n",
        "    \n",
        "    print(a == b)  # True, because the lists have the same values\n",
        "    \n",
        "    print(a is b)  # False, because a and b are different objects in memory\n",
        "    \n",
        "    print(a is c)  # True, because c refers to the same object as a\n",
        "\n",
        "8. What are logical operators in Python\n",
        "  - Logical operators in Python are used to perform logical operations on Boolean values (i.e., True or False). They are commonly    used in conditional statements to combine multiple conditions.\n",
        "\n",
        "    There are three logical operators in Python are:\n",
        "    \n",
        "    and – Returns True if both conditions are true.\n",
        "    \n",
        "    or – Returns True if at least one condition is true.\n",
        "    \n",
        "    not – Reverses the logical value. If the condition is True, it returns False, and vice versa.\n",
        "\n",
        "    x = 5\n",
        "    \n",
        "    print(x > 2 and x < 10)   # True, both conditions are true\n",
        "    \n",
        "    print(x > 10 or x < 10)   # True, one condition is true\n",
        "    \n",
        "    print(not(x > 2))         # False, because x > 2 is True, and not makes it\n",
        "    \n",
        "    False.\n",
        "\n",
        "9. What is type casting in Python?\n",
        "  - Type casting in Python means converting one data type into another. It is used when you want to change the type of a variable    or value — for example, from a string to an integer, or from a float to a string.\n",
        "\n",
        "    There are two types of type casting:\n",
        "    Implicit Type Casting – Done automatically by Python.\n",
        "\n",
        "    Explicit Type Casting – Done manually by the programmer using functions.\n",
        "    Common type casting functions:\n",
        "\n",
        "    int() – Converts to integer\n",
        "\n",
        "    float() – Converts to float\n",
        "\n",
        "    str() – Converts to string\n",
        "\n",
        "    bool() – Converts to boolean\n",
        "\n",
        "    \n",
        "      x-\"5\"\n",
        "\n",
        "      \n",
        "      y=int(5)\n",
        "      \n",
        "      print(y+5) #Output :10\n",
        "10. What is the difference between implicit and explicit type casting?\n",
        "  -  Type casting means converting a value from one data type to another. In Python, there are two types of type casting:\n",
        "\n",
        "      i Implicit Type Casting\n",
        "      Done automatically by Python.\n",
        "\n",
        "      Happens when Python converts data types on its own during an operation.\n",
        "\n",
        "      No need for the programmer to write extra code.\n",
        "\n",
        "      Example:\n",
        "   \n",
        "      x= 2.5\n",
        "      \n",
        "      y= 3.5\n",
        "      \n",
        "      z= x+y   #x (int) is automatically converted to float\n",
        "      \n",
        "      print(z) #output:7\n",
        "\n",
        "      Explicit Type Casting\n",
        "      Done manually by the programmer.\n",
        "\n",
        "      You use functions like int(), float(), str() to convert types.\n",
        "\n",
        "      Example:\n",
        "\n",
        "      a = \"100\"\n",
        "\n",
        "      b = int(a)  # Convert string to integer\n",
        "\n",
        "      print(b + 50)  # Output: 150\n",
        "\n",
        "11. What is the purpose of conditional statements in Python ?\n",
        "  - The purpose of conditional statements in Python is to control the flow of a program by making decisions based on certain    conditions. They allow the program to execute different blocks of code depending on whether a condition is True or False.\n",
        "\n",
        "      Common conditional statements in Python:\n",
        "      if\n",
        "\n",
        "      elif (else if)\n",
        "\n",
        "      else\n",
        "\n",
        "      Example:\n",
        "      age = 18\n",
        "\n",
        "      if age >= 18:\n",
        "        print(\"You can vote.\")\n",
        "      else:\n",
        "        print(\"You cannot vote.\")\n",
        "\n",
        "12. How does the elif statement work ?\n",
        "  - The elif statement stands for \"else if\". It is used when you want to check multiple conditions after an initial if        condition. If the if condition is False, Python checks the elif condition(s). If one of them is True, that block of code runs.\n",
        "\n",
        "    You can use multiple elif statements to check different cases.\n",
        "    Example:\n",
        "      \n",
        "      if marks >= 90:\n",
        "          print(\"Grade A\")\n",
        "      elif marks >= 75:\n",
        "          print(\"Grade B\")\n",
        "      elif marks >= 60:\n",
        "          print(\"Grade C\")\n",
        "      else:\n",
        "          print(\"Grade D\")\n",
        "13. What is the difference between for and while loops ?\n",
        "  -  Both for and while loops are used to repeat a block of code, but they work in different ways.\n",
        "\n",
        "      1. for loop\n",
        "    i) Used when you know in advance how many times you want to repeat the code.\n",
        "    ii) Often used to loop through a sequence (like a list, range, or string).\n",
        "\n",
        "      Example:\n",
        "      for i in range(5):\n",
        "          print(i)\n",
        "      Output:\n",
        "      0\n",
        "      1\n",
        "      2\n",
        "      3\n",
        "      4\n",
        "\n",
        "      while loop\n",
        "\n",
        "      i. Used when you don't know in advance how many times the loop will run.\n",
        "      \n",
        "      ii. Repeats the code as long as a condition is True.\n",
        "      \n",
        "      Example:\n",
        "     \n",
        "      i = 0\n",
        "     \n",
        "      while i < 5:\n",
        "     \n",
        "          print(i)\n",
        "     \n",
        "          i += 1\n",
        "     \n",
        "      Output:\n",
        "     \n",
        "      0\n",
        "     \n",
        "      1\n",
        "     \n",
        "      2\n",
        "     \n",
        "      3\n",
        "     \n",
        "      4\n",
        "\n",
        "     \n",
        "\n",
        "14. Describe a scenario where a while loop is more suitable than a for loop.\n",
        "  - Scenario where a while loop is more suitable than a for loop:\n",
        "\n",
        "      A while loop is more suitable when you don't know in advance how many times the loop should run, and you want to keep      repeating an action until a specific condition is met.\n",
        "      \n",
        "      Example Scenario: User Login System\n",
        "      Imagine you are creating a login system that keeps asking the user to enter the correct password until they get it right:\n",
        "      correct_password = \"python123\"\n",
        "      user_input = \"\"\n",
        "      \n",
        "      while user_input != correct_password:\n",
        "          user_input = input(\"Enter your password: \")\n",
        "      \n",
        "      print(\"Access granted!\")"
      ],
      "metadata": {
        "id": "zja-ZPghC_rb"
      }
    },
    {
      "cell_type": "markdown",
      "source": [
        "Practical Questions"
      ],
      "metadata": {
        "id": "zOmG6lUkJw0D"
      }
    },
    {
      "cell_type": "code",
      "source": [
        "# 1) Write a Python program to print \"Hello, World!\"\n",
        "print(\"Hello, World!\")"
      ],
      "metadata": {
        "colab": {
          "base_uri": "https://localhost:8080/"
        },
        "id": "e95RAD4eJ44l",
        "outputId": "02dd3b8c-584d-459d-a89d-7cae14aeee84"
      },
      "execution_count": null,
      "outputs": [
        {
          "output_type": "stream",
          "name": "stdout",
          "text": [
            "Hello, World!\n"
          ]
        }
      ]
    },
    {
      "cell_type": "code",
      "source": [
        "#2) Write a Python program that displays your name and age.\n",
        "name = \"Prakhar\"\n",
        "age = 18  # You can change this to your actual age\n",
        "\n",
        "print(\"My name is\", name)\n",
        "print(\"I am\", age, \"years old\")"
      ],
      "metadata": {
        "colab": {
          "base_uri": "https://localhost:8080/"
        },
        "id": "PfP6DE1dJ90v",
        "outputId": "a03492f7-c60d-4a6e-b38e-069ff416dd1b"
      },
      "execution_count": null,
      "outputs": [
        {
          "output_type": "stream",
          "name": "stdout",
          "text": [
            "My name is Prakhar\n",
            "I am 18 years old\n"
          ]
        }
      ]
    },
    {
      "cell_type": "code",
      "source": [
        "#3) Write code to print all the pre-defined keywords in Python using the keyword library.\n",
        "import keyword\n",
        "print(keyword.kwlist)"
      ],
      "metadata": {
        "id": "6BUDAL84KELV"
      },
      "execution_count": null,
      "outputs": []
    },
    {
      "cell_type": "code",
      "source": [
        "#4) Write a program that checks if a given word is a Python keyword.\n",
        "import keyword  # This gives access to Python's keyword list\n",
        "\n",
        "word = input(\"Enter a word: \")  # Ask the user for a word\n",
        "\n",
        "# Check if the word is in the list of keywords\n",
        "if keyword.iskeyword(word):\n",
        "    print(word, \"is a Python keyword.\")\n",
        "else:\n",
        "    print(word, \"is NOT a Python keyword.\")"
      ],
      "metadata": {
        "colab": {
          "base_uri": "https://localhost:8080/"
        },
        "id": "JXTd3zUuKLbj",
        "outputId": "bc5d4993-e57b-4c4a-b0f5-6f6492868e2c"
      },
      "execution_count": null,
      "outputs": [
        {
          "output_type": "stream",
          "name": "stdout",
          "text": [
            "Enter a word: print\n",
            "print is NOT a Python keyword.\n"
          ]
        }
      ]
    },
    {
      "cell_type": "code",
      "source": [
        "#5)  Create a list and tuple in Python, and demonstrate how attempting to change an element works differently for each.\n",
        "my_list = [10, 20, 30]\n",
        "print(\"Original List:\", my_list)\n",
        "\n",
        "# Change an element in the list\n",
        "my_list[1] = 200\n",
        "print(\"Modified List:\", my_list)\n",
        "\n",
        "# Create a tuple\n",
        "my_tuple = (10, 20, 30)\n",
        "print(\"Original Tuple:\", my_tuple)\n",
        "\n",
        "# Uncomment the next line to see the error\n",
        "# my_tuple[1] = 200  # ❌ This will cause an error because tuples can't be changed\n"
      ],
      "metadata": {
        "id": "i3pt23ryKMwF"
      },
      "execution_count": null,
      "outputs": []
    },
    {
      "cell_type": "code",
      "source": [
        "#6) Write a function to demonstrate the behavior of mutable and immutable arguments\n",
        "def demo_mutable_immutable(num,my_list):\n",
        "    #Immutable List\n",
        "    num=num+1\n",
        "\n",
        "    print(\"Inside function - number:\", num)\n",
        "    my_list.append(100)\n",
        "    print(\"Inside function - list:\", my_list)\n",
        "\n",
        "a_num=10\n",
        "my_list=[1,2,3,4]\n",
        "\n",
        "print(\"Before function call:\")\n",
        "print(\"num =\", a_num)\n",
        "print(\"my_list =\", my_list)\n",
        "\n",
        "# Call the function\n",
        "demo_mutable_immutable(a_num, my_list)\n",
        "\n",
        "print(\"\\nAfter function call:\")\n",
        "print(\"num =\", a_num)            # Stays the same\n",
        "print(\"my_list =\", my_list)    # Gets updated\n",
        "\n"
      ],
      "metadata": {
        "colab": {
          "base_uri": "https://localhost:8080/"
        },
        "id": "n4pM4BTNKhKd",
        "outputId": "2ddfda05-1a7d-4cc4-e8f0-48f291db7242"
      },
      "execution_count": null,
      "outputs": [
        {
          "output_type": "stream",
          "name": "stdout",
          "text": [
            "Before function call:\n",
            "num = 10\n",
            "my_list = [1, 2, 3, 4]\n",
            "Inside function - number: 11\n",
            "Inside function - list: [1, 2, 3, 4, 100]\n",
            "\n",
            "After function call:\n",
            "num = 10\n",
            "my_list = [1, 2, 3, 4, 100]\n"
          ]
        }
      ]
    },
    {
      "cell_type": "code",
      "source": [
        "#7)  Write a program that performs basic arithmetic operations on two user-input numbers.\n",
        "user_ask_1 = int(input(\"Enter your 1st number\"))\n",
        "user_ask_2 = int(input(\"Enter your 2nd number\"))\n",
        "add = user_ask_1+user_ask_2\n",
        "add = user_ask_1 + user_ask_2\n",
        "sub = user_ask_1 - user_ask_2\n",
        "mul = user_ask_1 * user_ask_2\n",
        "div = user_ask_1 / user_ask_2  # Note: make sure 2nd number is not zero\n",
        "\n",
        "# Displaying results\n",
        "print(\"Addition:\", add)\n",
        "print(\"Subtraction:\", sub)\n",
        "print(\"Multiplication:\", mul)\n",
        "print(\"Division:\", div)"
      ],
      "metadata": {
        "id": "Kwkp_p2ZKo1p"
      },
      "execution_count": null,
      "outputs": []
    },
    {
      "cell_type": "code",
      "source": [
        "#8)  Write a program to demonstrate the use of logical operators.\n",
        "x=5\n",
        "y=3\n",
        "print( x > 4 and y < 5)\n",
        "print( x > 5 or y < 6)\n",
        "print(not x < 10)"
      ],
      "metadata": {
        "id": "eVYKBxJJKv1n"
      },
      "execution_count": null,
      "outputs": []
    },
    {
      "cell_type": "code",
      "source": [
        "#9) Write a Python program to convert user input from string to integer, float, and boolean types.\n",
        "user_ask = input(\"Enter a number\")\n",
        "convert_integer=int(user_ask)\n",
        "print(type(convert_integer))\n",
        "convert_float=float(user_ask)\n",
        "print(type(convert_float))\n",
        "convert_boolean= bool(user_ask)\n",
        "print(type(convert_boolean))\n",
        "\n"
      ],
      "metadata": {
        "id": "PU9O9GgEKwsP"
      },
      "execution_count": null,
      "outputs": []
    },
    {
      "cell_type": "code",
      "source": [
        "#10) Write code to demonstrate type casting with list elements.\n",
        "my_list=[\"1\",\"2\",\"3\"]\n",
        "\n",
        "for items in my_list:\n",
        "    num=int(items)\n",
        "    num += 1\n",
        "    print(num)"
      ],
      "metadata": {
        "id": "eBAoU4iSK1VA"
      },
      "execution_count": null,
      "outputs": []
    },
    {
      "cell_type": "code",
      "source": [
        "#11) Write a program that checks if a number is positive, negative, or zero\n",
        "num = int(input(\"Enter a number\"))\n",
        "if num >0:\n",
        "    print(\"It is a postive number\")\n",
        "elif num ==0:\n",
        "    print(\"This is zero\")\n",
        "else:\n",
        "    print(\"This is a negative number\")"
      ],
      "metadata": {
        "colab": {
          "base_uri": "https://localhost:8080/"
        },
        "id": "3dIOF0zlK7Fl",
        "outputId": "c5e37467-2982-4626-ed24-411eaafd76c6"
      },
      "execution_count": null,
      "outputs": [
        {
          "output_type": "stream",
          "name": "stdout",
          "text": [
            "Enter a number8\n",
            "It is a postive number\n"
          ]
        }
      ]
    },
    {
      "cell_type": "code",
      "source": [
        "#12) Write a for loop to print numbers from 1 to 10.\n",
        "for i in range(1,11):\n",
        "    print(i)"
      ],
      "metadata": {
        "colab": {
          "base_uri": "https://localhost:8080/"
        },
        "id": "2fc03--MK7xQ",
        "outputId": "d929af2a-ed99-459f-9209-c226597140ba"
      },
      "execution_count": null,
      "outputs": [
        {
          "output_type": "stream",
          "name": "stdout",
          "text": [
            "1\n",
            "2\n",
            "3\n",
            "4\n",
            "5\n",
            "6\n",
            "7\n",
            "8\n",
            "9\n",
            "10\n"
          ]
        }
      ]
    },
    {
      "cell_type": "code",
      "source": [
        "#13)  Write a Python program to find the sum of all even numbers between 1 and 50.\n",
        "\n",
        "total= 0\n",
        "\n",
        "for i in range(1,51):\n",
        "    if i % 2== 0:\n",
        "        #print(i)\n",
        "        total += i\n",
        "print(total)"
      ],
      "metadata": {
        "colab": {
          "base_uri": "https://localhost:8080/"
        },
        "id": "yWnMvYogLA9S",
        "outputId": "9d8c9ba5-87a6-4e81-a38d-5d048836105e"
      },
      "execution_count": null,
      "outputs": [
        {
          "output_type": "stream",
          "name": "stdout",
          "text": [
            "650\n"
          ]
        }
      ]
    },
    {
      "cell_type": "code",
      "source": [
        "#14) Write a program to reverse a string using a while loop.\n",
        "\n",
        "x=\"Prakhar\"\n",
        "reverse_text = \"\"\n",
        "index=len(x)-1\n",
        "while index >= 0:\n",
        "    reverse_text += x[index]\n",
        "    index -= 1\n",
        "\n",
        "print(reverse_text)\n"
      ],
      "metadata": {
        "colab": {
          "base_uri": "https://localhost:8080/"
        },
        "id": "u_wf4lgwLG5v",
        "outputId": "82fc4886-5a17-4fc8-ef4f-37ccadef0605"
      },
      "execution_count": null,
      "outputs": [
        {
          "output_type": "stream",
          "name": "stdout",
          "text": [
            "rahkarP\n"
          ]
        }
      ]
    },
    {
      "cell_type": "code",
      "source": [
        "#15) Write a Python program to calculate the factorial of a number provided by the user using a while loop\n",
        "\n",
        "user_ask = int(input(\"Enter a number\"))\n",
        "\n",
        "factorial = 1\n",
        "i = 1\n",
        "while i <=user_ask:\n",
        "    factorial *=i\n",
        "    i +=1\n",
        "print(f\"Factorial of {user_ask} is {factorial}\")"
      ],
      "metadata": {
        "colab": {
          "base_uri": "https://localhost:8080/"
        },
        "id": "y-ynKK_zLJXH",
        "outputId": "5f1b23f6-722f-4888-f6d8-fcdc6a57080c"
      },
      "execution_count": null,
      "outputs": [
        {
          "output_type": "stream",
          "name": "stdout",
          "text": [
            "Enter a number5\n",
            "Factorial of 5 is 120\n"
          ]
        }
      ]
    }
  ]
}